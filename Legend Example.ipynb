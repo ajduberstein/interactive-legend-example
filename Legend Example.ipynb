{
 "cells": [
  {
   "cell_type": "code",
   "execution_count": null,
   "metadata": {},
   "outputs": [],
   "source": [
    "import jinja2\n",
    "from ipywidgets import HTML\n",
    "\n",
    "def create_legend(labels: list) -> HTML:\n",
    "    \"\"\"Creates an HTML legend from a list dictionary of the format {'text': str, 'color': [r, g, b]}\"\"\"\n",
    "    labels = list(labels)\n",
    "    for label in labels:\n",
    "        assert label['color'] and label['text']\n",
    "        assert len(label['color']) in (3, 4)\n",
    "        label['color'] = ', '.join([str(c) for c in label['color']])\n",
    "    legend_template = jinja2.Template('''\n",
    "    <style>\n",
    "      .legend {\n",
    "        width: 300px;\n",
    "      }\n",
    "      .square {\n",
    "        height: 10px;\n",
    "        width: 10px;\n",
    "        border: 1px solid grey;\n",
    "      }\n",
    "      .left {\n",
    "        float: left;\n",
    "      }\n",
    "      .right {\n",
    "        float: right;\n",
    "      }\n",
    "    </style>\n",
    "    {% for label in labels %}\n",
    "    <div class='legend'>\n",
    "      <div class=\"square left\" style=\"background:rgba({{ label['color'] }})\"></div>\n",
    "      <span class=\"right\">{{label['text']}}</span>\n",
    "      <br />\n",
    "    </div>\n",
    "    {% endfor %}\n",
    "    ''')\n",
    "    html_str = legend_template.render(labels=labels)\n",
    "    return HTML(html_str)"
   ]
  },
  {
   "cell_type": "code",
   "execution_count": null,
   "metadata": {},
   "outputs": [],
   "source": [
    "import pydeck as pdk\n",
    "import pandas as pd\n",
    "\n",
    "from ast import literal_eval\n",
    "\n",
    "DATA_URL = 'https://raw.githubusercontent.com/ajduberstein/geo_datasets/master/portugal-taxi-trajectories.csv'\n",
    "df = pd.read_csv(DATA_URL)\n",
    "# Assign random colors to each neighborhood category\n",
    "color_lookup = pdk.data_utils.assign_random_colors(df['CALL_TYPE'])\n",
    "df['color'] = df['CALL_TYPE'].apply(lambda row: color_lookup.get(row))\n",
    "# Compute a viewport that fits that middle 90% of the data\n",
    "view_state = pdk.ViewState(longitude=-8.618643, latitude=41.141412, zoom=10)\n",
    "df['POLYLINE'] = df['POLYLINE'].apply(lambda x: literal_eval(x))"
   ]
  },
  {
   "cell_type": "code",
   "execution_count": null,
   "metadata": {},
   "outputs": [],
   "source": [
    "layers = [\n",
    "    pdk.Layer(\n",
    "        \"PathLayer\",\n",
    "        data=df.head(100),\n",
    "        get_path='POLYLINE',\n",
    "        get_width=20,\n",
    "        get_color='color',\n",
    "        pickable=True,\n",
    "        auto_highlight=True),\n",
    "]"
   ]
  },
  {
   "cell_type": "code",
   "execution_count": null,
   "metadata": {},
   "outputs": [],
   "source": [
    "legend_lookup = [{'text': t, 'color': c} for t, c in color_lookup.items()]\n",
    "legend = create_legend(legend_lookup)"
   ]
  },
  {
   "cell_type": "code",
   "execution_count": null,
   "metadata": {},
   "outputs": [],
   "source": [
    "legend"
   ]
  },
  {
   "cell_type": "code",
   "execution_count": null,
   "metadata": {
    "scrolled": false
   },
   "outputs": [],
   "source": [
    "display(HTML(\"\"\"\n",
    "   <strong>Taxi Trip Type</strong>\n",
    "   (Data from <a href=\"https://www.kaggle.com/c/pkdd-15-predict-taxi-service-trajectory-i/data\">Kaggle</a>)\n",
    "\"\"\"))\n",
    "display(legend)\n",
    "pdk.Deck(\n",
    "    layers,\n",
    "    initial_view_state=view_state\n",
    ").to_html()"
   ]
  },
  {
   "cell_type": "code",
   "execution_count": null,
   "metadata": {},
   "outputs": [],
   "source": []
  }
 ],
 "metadata": {
  "kernelspec": {
   "display_name": "Python 3",
   "language": "python",
   "name": "python3"
  },
  "language_info": {
   "codemirror_mode": {
    "name": "ipython",
    "version": 3
   },
   "file_extension": ".py",
   "mimetype": "text/x-python",
   "name": "python",
   "nbconvert_exporter": "python",
   "pygments_lexer": "ipython3",
   "version": "3.7.7"
  }
 },
 "nbformat": 4,
 "nbformat_minor": 4
}
